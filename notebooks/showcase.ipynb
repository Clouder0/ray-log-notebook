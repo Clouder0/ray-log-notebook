{
 "cells": [
  {
   "cell_type": "code",
   "execution_count": null,
   "id": "0e46f13d",
   "metadata": {},
   "outputs": [],
   "source": [
    "import os\n",
    "\n",
    "os.environ[\"RAY_ACCEL_ENV_VAR_OVERRIDE_ON_ZERO\"] = \"0\"\n",
    "\n",
    "\n",
    "import ray\n",
    "\n",
    "ray.init(\"ray://localhost:10001\")"
   ]
  },
  {
   "cell_type": "code",
   "execution_count": null,
   "id": "3a7e2a7f",
   "metadata": {},
   "outputs": [],
   "source": [
    "@ray.remote\n",
    "def test2():\n",
    "    import time\n",
    "\n",
    "    time.sleep(1.0)\n",
    "    print(456)\n",
    "    print(789)\n",
    "\n",
    "\n",
    "await test2.remote()"
   ]
  },
  {
   "cell_type": "code",
   "execution_count": null,
   "id": "5cb1125f",
   "metadata": {},
   "outputs": [],
   "source": [
    "import ray_log_notebook\n",
    "\n",
    "ray_log_notebook.enable()"
   ]
  },
  {
   "cell_type": "code",
   "execution_count": null,
   "id": "edc37e5b",
   "metadata": {},
   "outputs": [],
   "source": [
    "import time\n",
    "\n",
    "\n",
    "@ray.remote\n",
    "def test():\n",
    "    time.sleep(1.0)\n",
    "    print(123)\n",
    "    print(223)\n",
    "\n",
    "\n",
    "await test.remote()"
   ]
  },
  {
   "cell_type": "code",
   "execution_count": null,
   "id": "3131bc1c",
   "metadata": {},
   "outputs": [],
   "source": [
    "@ray.remote\n",
    "def test2():\n",
    "    import time\n",
    "\n",
    "    time.sleep(1.0)\n",
    "    print(456)\n",
    "    print(789)\n",
    "\n",
    "\n",
    "await test2.remote()"
   ]
  },
  {
   "cell_type": "code",
   "execution_count": null,
   "id": "51f7d476",
   "metadata": {},
   "outputs": [],
   "source": [
    "task = test.remote()"
   ]
  },
  {
   "cell_type": "code",
   "execution_count": null,
   "id": "6aa27b29",
   "metadata": {},
   "outputs": [],
   "source": [
    "task2 = test2.remote()"
   ]
  },
  {
   "cell_type": "code",
   "execution_count": null,
   "id": "7fe1bfa7",
   "metadata": {},
   "outputs": [],
   "source": []
  }
 ],
 "metadata": {
  "kernelspec": {
   "display_name": ".venv",
   "language": "python",
   "name": "python3"
  },
  "language_info": {
   "codemirror_mode": {
    "name": "ipython",
    "version": 3
   },
   "file_extension": ".py",
   "mimetype": "text/x-python",
   "name": "python",
   "nbconvert_exporter": "python",
   "pygments_lexer": "ipython3",
   "version": "3.12.9"
  }
 },
 "nbformat": 4,
 "nbformat_minor": 5
}
